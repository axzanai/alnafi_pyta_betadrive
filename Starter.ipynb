{
 "cells": [
  {
   "attachments": {},
   "cell_type": "markdown",
   "id": "9d19daa8-1594-4454-ab4d-5b74b5c6ae03",
   "metadata": {},
   "source": [
    "![Course Outline](img/course_outline.png)\n",
    "\n",
    "![Basic Introduction](img/basic_intro.png)"
   ]
  },
  {
   "cell_type": "code",
   "execution_count": 7,
   "id": "f34b2ff0-a11f-4048-9264-55c2962a5303",
   "metadata": {},
   "outputs": [
    {
     "name": "stdout",
     "output_type": "stream",
     "text": [
      "Bismillah <class 'str'>\n"
     ]
    }
   ],
   "source": [
    "start = \"Bismillah\" # variable_name, assignment_operator, string\n",
    "name, job_status, age = \"Muhammad Arslan\", True, 23.3  \n",
    "print(start, type(start))"
   ]
  },
  {
   "cell_type": "code",
   "execution_count": 8,
   "id": "fa4deb2c-f10a-4a62-b940-08915850a458",
   "metadata": {},
   "outputs": [
    {
     "name": "stdout",
     "output_type": "stream",
     "text": [
      "Muhammad Arslan\n"
     ]
    }
   ],
   "source": [
    "print(name)"
   ]
  },
  {
   "cell_type": "code",
   "execution_count": 13,
   "id": "e0e7f38a-ee03-478a-a4a1-8b436a7a7f4a",
   "metadata": {},
   "outputs": [
    {
     "name": "stdout",
     "output_type": "stream",
     "text": [
      "Axzan Solutions\n"
     ]
    }
   ],
   "source": [
    "first_name = \"Axzan\" \n",
    "last_name = \"Solutions\" \n",
    "company_name = first_name + \" \" + last_name # Concatination\n",
    "print(company_name)"
   ]
  },
  {
   "cell_type": "markdown",
   "id": "95d32421-f25e-4fa5-843f-00c89139b642",
   "metadata": {},
   "source": [
    "![Operators](img/operators.png)"
   ]
  },
  {
   "cell_type": "code",
   "execution_count": 23,
   "id": "8813dc4d-dbb9-4c23-9349-af48dbddac96",
   "metadata": {},
   "outputs": [
    {
     "data": {
      "text/plain": [
       "22"
      ]
     },
     "execution_count": 23,
     "metadata": {},
     "output_type": "execute_result"
    }
   ],
   "source": [
    "91//4 # Integer Division"
   ]
  },
  {
   "attachments": {},
   "cell_type": "markdown",
   "id": "dd5bf063-92b7-44de-ad35-46b85e032f2d",
   "metadata": {},
   "source": [
    "![Operators](img/data_types.png)"
   ]
  },
  {
   "cell_type": "code",
   "execution_count": null,
   "id": "f563e207-362d-4811-9f73-719f55779bb3",
   "metadata": {},
   "outputs": [],
   "source": []
  },
  {
   "cell_type": "markdown",
   "id": "87b64ba5-27af-4016-97eb-21679334e858",
   "metadata": {},
   "source": [
    "![Built-in Functions](img/builtin_ftn.png)"
   ]
  },
  {
   "cell_type": "code",
   "execution_count": null,
   "id": "ee0bdfe4-a479-4e1b-8eb5-11eab1488573",
   "metadata": {},
   "outputs": [],
   "source": []
  }
 ],
 "metadata": {
  "kernelspec": {
   "display_name": "Python 3 (ipykernel)",
   "language": "python",
   "name": "python3"
  },
  "language_info": {
   "codemirror_mode": {
    "name": "ipython",
    "version": 3
   },
   "file_extension": ".py",
   "mimetype": "text/x-python",
   "name": "python",
   "nbconvert_exporter": "python",
   "pygments_lexer": "ipython3",
   "version": "3.13.0"
  }
 },
 "nbformat": 4,
 "nbformat_minor": 5
}
