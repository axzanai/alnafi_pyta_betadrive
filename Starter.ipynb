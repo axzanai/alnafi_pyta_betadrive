{
 "cells": [
  {
   "cell_type": "markdown",
   "id": "c91bd1a7-0b8a-4b93-a6f0-c13070097e6e",
   "metadata": {},
   "source": [
    "![Course Outline](img/course_outline.png)"
   ]
  },
  {
   "cell_type": "code",
   "execution_count": null,
   "id": "50c3b47f-e77f-40e7-b106-8fbfbf455422",
   "metadata": {},
   "outputs": [],
   "source": []
  }
 ],
 "metadata": {
  "kernelspec": {
   "display_name": "Python 3 (ipykernel)",
   "language": "python",
   "name": "python3"
  },
  "language_info": {
   "codemirror_mode": {
    "name": "ipython",
    "version": 3
   },
   "file_extension": ".py",
   "mimetype": "text/x-python",
   "name": "python",
   "nbconvert_exporter": "python",
   "pygments_lexer": "ipython3",
   "version": "3.13.0"
  }
 },
 "nbformat": 4,
 "nbformat_minor": 5
}
