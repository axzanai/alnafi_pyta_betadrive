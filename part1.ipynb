{
 "cells": [
  {
   "attachments": {},
   "cell_type": "markdown",
   "id": "9d19daa8-1594-4454-ab4d-5b74b5c6ae03",
   "metadata": {},
   "source": [
    "![Course Outline](img/course_outline.png)\n",
    "\n",
    "![Basic Introduction](img/basic_intro.png)"
   ]
  },
  {
   "cell_type": "code",
   "execution_count": 1,
   "id": "f34b2ff0-a11f-4048-9264-55c2962a5303",
   "metadata": {},
   "outputs": [
    {
     "name": "stdout",
     "output_type": "stream",
     "text": [
      "Bismillah <class 'str'>\n"
     ]
    }
   ],
   "source": [
    "start = \"Bismillah\" # variable_name, assignment_operator, string\n",
    "name, job_status, age = \"axzanai\", True, 23.3  \n",
    "print(start, type(start))"
   ]
  },
  {
   "cell_type": "code",
   "execution_count": 2,
   "id": "fa4deb2c-f10a-4a62-b940-08915850a458",
   "metadata": {},
   "outputs": [
    {
     "name": "stdout",
     "output_type": "stream",
     "text": [
      "axzanai\n"
     ]
    }
   ],
   "source": [
    "print(name)"
   ]
  },
  {
   "cell_type": "code",
   "execution_count": 3,
   "id": "e0e7f38a-ee03-478a-a4a1-8b436a7a7f4a",
   "metadata": {},
   "outputs": [
    {
     "name": "stdout",
     "output_type": "stream",
     "text": [
      "Axzan Solutions\n"
     ]
    }
   ],
   "source": [
    "first_name = \"Axzan\" \n",
    "last_name = \"Solutions\" \n",
    "company_name = first_name + \" \" + last_name # Concatination\n",
    "print(company_name)"
   ]
  },
  {
   "cell_type": "markdown",
   "id": "7019ef88-ff73-4025-8f8b-038ec31b0aed",
   "metadata": {},
   "source": [
    "### <!-- Follow Python Indentation to ignore error! -->"
   ]
  },
  {
   "cell_type": "markdown",
   "id": "95d32421-f25e-4fa5-843f-00c89139b642",
   "metadata": {},
   "source": [
    "![Operators](img/operators.png)"
   ]
  },
  {
   "cell_type": "code",
   "execution_count": 4,
   "id": "8813dc4d-dbb9-4c23-9349-af48dbddac96",
   "metadata": {},
   "outputs": [
    {
     "name": "stdout",
     "output_type": "stream",
     "text": [
      "22 450\n"
     ]
    }
   ],
   "source": [
    "int_div = 91//4 # Integer Division\n",
    "inb = 901//2\n",
    "print(int_div, inb)"
   ]
  },
  {
   "attachments": {},
   "cell_type": "markdown",
   "id": "dd5bf063-92b7-44de-ad35-46b85e032f2d",
   "metadata": {},
   "source": [
    "![Operators](img/data_types.png)"
   ]
  },
  {
   "cell_type": "code",
   "execution_count": 5,
   "id": "f563e207-362d-4811-9f73-719f55779bb3",
   "metadata": {},
   "outputs": [
    {
     "name": "stdout",
     "output_type": "stream",
     "text": [
      "['system', 'control', 'version', 'a', 'is', 'Git']\n"
     ]
    }
   ],
   "source": [
    "string = \"Git is a version control system\"\n",
    "spt = string.split()\n",
    "rev = spt.reverse()\n",
    "print(spt)\n"
   ]
  },
  {
   "cell_type": "code",
   "execution_count": 6,
   "id": "ea39c58a-4c6e-46c9-b8e0-6870e07817cb",
   "metadata": {},
   "outputs": [
    {
     "name": "stdout",
     "output_type": "stream",
     "text": [
      "['system', 'control', 'version', 'a', 'is', 'Git']\n"
     ]
    }
   ],
   "source": [
    "rev = spt.reverse() # Built-in function Not Working\n",
    "rev = list(reversed(spt))\n",
    "print(rev)"
   ]
  },
  {
   "cell_type": "markdown",
   "id": "87b64ba5-27af-4016-97eb-21679334e858",
   "metadata": {},
   "source": [
    "![Built-in Functions](img/builtin_ftn.png)"
   ]
  },
  {
   "cell_type": "code",
   "execution_count": 7,
   "id": "64094b86-51c8-4531-9cd5-920e5ced03a7",
   "metadata": {},
   "outputs": [
    {
     "data": {
      "text/plain": [
       "201408"
      ]
     },
     "execution_count": 7,
     "metadata": {},
     "output_type": "execute_result"
    }
   ],
   "source": [
    "abs(-201408)"
   ]
  },
  {
   "cell_type": "code",
   "execution_count": 8,
   "id": "fe96e337-1c43-43db-a717-0a993c05036d",
   "metadata": {},
   "outputs": [
    {
     "data": {
      "text/plain": [
       "331374354499739050732912032"
      ]
     },
     "execution_count": 8,
     "metadata": {},
     "output_type": "execute_result"
    }
   ],
   "source": [
    "pow(201402, 5)"
   ]
  },
  {
   "cell_type": "code",
   "execution_count": 9,
   "id": "ee0bdfe4-a479-4e1b-8eb5-11eab1488573",
   "metadata": {},
   "outputs": [
    {
     "data": {
      "text/plain": [
       "6"
      ]
     },
     "execution_count": 9,
     "metadata": {},
     "output_type": "execute_result"
    }
   ],
   "source": [
    "type(rev) # Output: list\n",
    "len(rev) # Output: 6"
   ]
  },
  {
   "cell_type": "markdown",
   "id": "423ebd1d-a0e5-481a-adde-263f95cd12dd",
   "metadata": {},
   "source": [
    "![ASCII Table](img/ASCII-table.png)"
   ]
  },
  {
   "cell_type": "code",
   "execution_count": 10,
   "id": "a24befc3-8a02-45cb-9f55-9641618684cf",
   "metadata": {},
   "outputs": [
    {
     "data": {
      "text/plain": [
       "['Git', 'a', 'control', 'is', 'system', 'version']"
      ]
     },
     "execution_count": 10,
     "metadata": {},
     "output_type": "execute_result"
    }
   ],
   "source": [
    "max(rev)\n",
    "sorted(rev)"
   ]
  },
  {
   "cell_type": "markdown",
   "id": "b534f167-3746-4d8b-9e0b-1a40d0b9cbdf",
   "metadata": {},
   "source": [
    "![Built-in Functions](img/data_str.png)"
   ]
  },
  {
   "cell_type": "markdown",
   "id": "3de996c6-9c69-40e1-a680-73272009fc57",
   "metadata": {},
   "source": [
    "![Lists](img/list.png)"
   ]
  },
  {
   "cell_type": "code",
   "execution_count": 33,
   "id": "6e97f87b-cc91-4a45-b646-79be576ce3da",
   "metadata": {},
   "outputs": [
    {
     "name": "stdout",
     "output_type": "stream",
     "text": [
      "[0, 1, 2, 3, 4, 5, 6, 7, 8, 9]\n"
     ]
    }
   ],
   "source": [
    "list1 = [] # Initializing empty list\n",
    "list2 = list() # Declares an empty list\n",
    "\n",
    "list1 = [1, 2, 3, 4]\n",
    "list2 = [value for value in range(10)] # \n",
    "\n",
    "print(list2)"
   ]
  },
  {
   "cell_type": "code",
   "execution_count": 47,
   "id": "bf7a4349-eae1-4d80-a1e1-63629e8d6a54",
   "metadata": {},
   "outputs": [],
   "source": [
    "index2 = list2[2] # List index\n",
    "len_list2 = len(list2) # \n",
    "list2.append(10) # Update the last index of the list\n",
    "\n",
    "list2.insert(0, -1) # Add -1 at the start of the list\n",
    "\n",
    "list2.pop(-1) # Removes the element using index value\n",
    "# list2.remove(4) # Removes the existing value / ValueError\n",
    "\n",
    "rev1_list2 = list2.reverse() \n",
    "rev2_list2 = list2[::-1] # Reverses the list by slicing\n",
    "new_list = sorted(list1, reverse = True)\n",
    "\n",
    "rev2_list2.sort() # Method will update the list2"
   ]
  },
  {
   "cell_type": "code",
   "execution_count": 45,
   "id": "9f835797-cccf-4566-8285-8edb80b59b94",
   "metadata": {},
   "outputs": [
    {
     "data": {
      "text/plain": [
       "[4, 3, 2, 1]"
      ]
     },
     "execution_count": 45,
     "metadata": {},
     "output_type": "execute_result"
    }
   ],
   "source": []
  },
  {
   "cell_type": "code",
   "execution_count": null,
   "id": "83df1548-7b95-4751-8c84-ae9fe5ab7ab1",
   "metadata": {},
   "outputs": [],
   "source": []
  }
 ],
 "metadata": {
  "kernelspec": {
   "display_name": "Python 3 (ipykernel)",
   "language": "python",
   "name": "python3"
  },
  "language_info": {
   "codemirror_mode": {
    "name": "ipython",
    "version": 3
   },
   "file_extension": ".py",
   "mimetype": "text/x-python",
   "name": "python",
   "nbconvert_exporter": "python",
   "pygments_lexer": "ipython3",
   "version": "3.13.0"
  }
 },
 "nbformat": 4,
 "nbformat_minor": 5
}
